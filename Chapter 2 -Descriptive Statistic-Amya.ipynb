{
 "cells": [
  {
   "cell_type": "code",
   "execution_count": 4,
   "id": "guilty-divide",
   "metadata": {},
   "outputs": [],
   "source": [
    "#create your series using pandas\n",
    "import pandas as pd\n",
    "data = pd.Series([13,47,10,3,16,20,17,40,4,2,7,25,8,21,19,15,3,17,14,6,12,45,1,8,4,16,11,18,23,12,6,2,14,13,7,15,46,12,9,18,34,13,41,28,36,17,24,27,29,9,14,26,10,24,37,31,8,16,12,16])"
   ]
  },
  {
   "cell_type": "code",
   "execution_count": 4,
   "id": "roman-highway",
   "metadata": {},
   "outputs": [
    {
     "name": "stdout",
     "output_type": "stream",
     "text": [
      "Maximum value =  47 and minimum value = 1\n"
     ]
    }
   ],
   "source": [
    "#Lets find the maximum and minimum value from our data and print the values\n",
    "max_value = data.max()\n",
    "min_value = data.min()\n",
    "print(\"Maximum value = \",max_value, \"and minimum value =\",min_value)"
   ]
  },
  {
   "cell_type": "code",
   "execution_count": 5,
   "id": "express-paragraph",
   "metadata": {},
   "outputs": [
    {
     "data": {
      "text/plain": [
       "12    4\n",
       "16    4\n",
       "13    3\n",
       "17    3\n",
       "8     3\n",
       "14    3\n",
       "2     2\n",
       "18    2\n",
       "15    2\n",
       "10    2\n",
       "9     2\n",
       "7     2\n",
       "6     2\n",
       "4     2\n",
       "3     2\n",
       "24    2\n",
       "34    1\n",
       "40    1\n",
       "36    1\n",
       "37    1\n",
       "1     1\n",
       "41    1\n",
       "45    1\n",
       "29    1\n",
       "46    1\n",
       "31    1\n",
       "20    1\n",
       "28    1\n",
       "27    1\n",
       "26    1\n",
       "25    1\n",
       "23    1\n",
       "21    1\n",
       "19    1\n",
       "11    1\n",
       "47    1\n",
       "dtype: int64"
      ]
     },
     "execution_count": 5,
     "metadata": {},
     "output_type": "execute_result"
    }
   ],
   "source": [
    "#Now we are going to find the frequency of each value in the data set\n",
    "data.value_counts()"
   ]
  },
  {
   "cell_type": "code",
   "execution_count": 6,
   "id": "impaired-roman",
   "metadata": {},
   "outputs": [],
   "source": [
    "# Now we are going to count the frequency but into classes. In this case the number of classes is 6.\n",
    "frequency_class = data.value_counts(sort=False, bins=6)"
   ]
  },
  {
   "cell_type": "code",
   "execution_count": 7,
   "id": "third-juvenile",
   "metadata": {},
   "outputs": [
    {
     "data": {
      "text/plain": [
       "(0.953, 8.667]      14\n",
       "(8.667, 16.333]     21\n",
       "(16.333, 24.0]      11\n",
       "(24.0, 31.667]       6\n",
       "(31.667, 39.333]     3\n",
       "(39.333, 47.0]       5\n",
       "dtype: int64"
      ]
     },
     "execution_count": 7,
     "metadata": {},
     "output_type": "execute_result"
    }
   ],
   "source": [
    "frequency_class"
   ]
  },
  {
   "cell_type": "code",
   "execution_count": 8,
   "id": "configured-telephone",
   "metadata": {},
   "outputs": [],
   "source": [
    "#Computing the relative frequency\n",
    "relative_frequency = frequency_class/len(data)"
   ]
  },
  {
   "cell_type": "code",
   "execution_count": 9,
   "id": "particular-section",
   "metadata": {},
   "outputs": [
    {
     "data": {
      "text/plain": [
       "(0.953, 8.667]      0.233333\n",
       "(8.667, 16.333]     0.350000\n",
       "(16.333, 24.0]      0.183333\n",
       "(24.0, 31.667]      0.100000\n",
       "(31.667, 39.333]    0.050000\n",
       "(39.333, 47.0]      0.083333\n",
       "dtype: float64"
      ]
     },
     "execution_count": 9,
     "metadata": {},
     "output_type": "execute_result"
    }
   ],
   "source": [
    "relative_frequency"
   ]
  },
  {
   "cell_type": "code",
   "execution_count": 10,
   "id": "located-mistress",
   "metadata": {},
   "outputs": [],
   "source": [
    "#Computing the cumulative frequency\n",
    "Cumulative_frequency = relative_frequency.cumsum() "
   ]
  },
  {
   "cell_type": "code",
   "execution_count": 11,
   "id": "automated-segment",
   "metadata": {},
   "outputs": [
    {
     "data": {
      "text/plain": [
       "(0.953, 8.667]      0.233333\n",
       "(8.667, 16.333]     0.583333\n",
       "(16.333, 24.0]      0.766667\n",
       "(24.0, 31.667]      0.866667\n",
       "(31.667, 39.333]    0.916667\n",
       "(39.333, 47.0]      1.000000\n",
       "dtype: float64"
      ]
     },
     "execution_count": 11,
     "metadata": {},
     "output_type": "execute_result"
    }
   ],
   "source": [
    "Cumulative_frequency"
   ]
  },
  {
   "cell_type": "code",
   "execution_count": 5,
   "id": "plastic-veteran",
   "metadata": {},
   "outputs": [
    {
     "data": {
      "text/plain": [
       "<AxesSubplot:>"
      ]
     },
     "execution_count": 5,
     "metadata": {},
     "output_type": "execute_result"
    },
    {
     "data": {
      "image/png": "[encoded data removed]",
      "text/plain": [
       "<Figure size 432x288 with 1 Axes>"
      ]
     },
     "metadata": {
      "needs_background": "light"
     },
     "output_type": "display_data"
    }
   ],
   "source": [
    "data.hist(bins=6)"
   ]
  },
  {
   "cell_type": "code",
   "execution_count": null,
   "id": "faced-bachelor",
   "metadata": {},
   "outputs": [],
   "source": []
  }
 ],
 "metadata": {
  "kernelspec": {
   "display_name": "Python 3",
   "language": "python",
   "name": "python3"
  },
  "language_info": {
   "codemirror_mode": {
    "name": "ipython",
    "version": 3
   },
   "file_extension": ".py",
   "mimetype": "text/x-python",
   "name": "python",
   "nbconvert_exporter": "python",
   "pygments_lexer": "ipython3",
   "version": "3.9.2"
  }
 },
 "nbformat": 4,
 "nbformat_minor": 5
}
