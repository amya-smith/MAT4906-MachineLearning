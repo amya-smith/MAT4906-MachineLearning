{
 "cells": [
  {
   "cell_type": "code",
   "execution_count": 1,
   "id": "suffering-disco",
   "metadata": {},
   "outputs": [],
   "source": [
    "#Let import numpy library\n",
    "import numpy as np"
   ]
  },
  {
   "cell_type": "code",
   "execution_count": 2,
   "id": "rubber-flight",
   "metadata": {},
   "outputs": [],
   "source": [
    "#create the matrix for chemist's problem\n",
    "A = np.array([[1,1],[10,35]])"
   ]
  },
  {
   "cell_type": "code",
   "execution_count": 4,
   "id": "tested-advance",
   "metadata": {},
   "outputs": [],
   "source": [
    "#create the right hand side vector\n",
    "b = np.array([[2],[30]])"
   ]
  },
  {
   "cell_type": "code",
   "execution_count": 5,
   "id": "hawaiian-witch",
   "metadata": {},
   "outputs": [
    {
     "data": {
      "text/plain": [
       "(2, 2)"
      ]
     },
     "execution_count": 5,
     "metadata": {},
     "output_type": "execute_result"
    }
   ],
   "source": [
    "#verify the size of the matrix A\n",
    "A.shape"
   ]
  },
  {
   "cell_type": "code",
   "execution_count": 6,
   "id": "endless-regard",
   "metadata": {},
   "outputs": [
    {
     "data": {
      "text/plain": [
       "(2, 1)"
      ]
     },
     "execution_count": 6,
     "metadata": {},
     "output_type": "execute_result"
    }
   ],
   "source": [
    "#verify the size of the vector b\n",
    "b.shape"
   ]
  },
  {
   "cell_type": "code",
   "execution_count": 7,
   "id": "knowing-thumb",
   "metadata": {},
   "outputs": [
    {
     "data": {
      "text/plain": [
       "25.000000000000007"
      ]
     },
     "execution_count": 7,
     "metadata": {},
     "output_type": "execute_result"
    }
   ],
   "source": [
    "#verify that A is invertible using its determinant.\n",
    "np.linalg.det(A)"
   ]
  },
  {
   "cell_type": "code",
   "execution_count": 8,
   "id": "conditional-sperm",
   "metadata": {},
   "outputs": [],
   "source": [
    "#The det(A)!=0 it means that A is invertible, now lets compute its inverse\n",
    "inv_A = np.linalg.inv(A)"
   ]
  },
  {
   "cell_type": "code",
   "execution_count": 9,
   "id": "persistent-collar",
   "metadata": {},
   "outputs": [],
   "source": [
    "#We are ready to find the solution of our problem multiplying the matrix inv_A and vector b\n",
    "X = inv_A.dot(b)"
   ]
  },
  {
   "cell_type": "code",
   "execution_count": 12,
   "id": "silver-crime",
   "metadata": {},
   "outputs": [
    {
     "name": "stdout",
     "output_type": "stream",
     "text": [
      "X= [[1.6]\n",
      " [0.4]]\n"
     ]
    }
   ],
   "source": [
    "#printing the solution\n",
    "print(\"X=\",X)"
   ]
  },
  {
   "cell_type": "code",
   "execution_count": 13,
   "id": "aggregate-reverse",
   "metadata": {},
   "outputs": [],
   "source": [
    "#Now we are going to solve the biologist's problem. The first thing you have to do is define \n",
    "#the problem in terms of matrix notation. Complete the following code, where B is the coefecient matrix.\n",
    "B=np.array([[1,2,6],[1,-1,4],[2,1,5]])"
   ]
  },
  {
   "cell_type": "code",
   "execution_count": 14,
   "id": "polyphonic-setting",
   "metadata": {},
   "outputs": [],
   "source": [
    "#Create the righthand side vector of size 3x1.\n",
    "b=np.array([[8],[5],[13]])"
   ]
  },
  {
   "cell_type": "code",
   "execution_count": 15,
   "id": "convertible-yesterday",
   "metadata": {},
   "outputs": [
    {
     "data": {
      "text/plain": [
       "14.999999999999993"
      ]
     },
     "execution_count": 15,
     "metadata": {},
     "output_type": "execute_result"
    }
   ],
   "source": [
    "#Compute the inverse of the matrix B. But first, analyze if that matrix is invertible computing its determinant.\n",
    "np.linalg.det(B)"
   ]
  },
  {
   "cell_type": "code",
   "execution_count": 16,
   "id": "thorough-pointer",
   "metadata": {},
   "outputs": [],
   "source": [
    "#Now compute the inverse of the matrix B.\n",
    "inv_B = np.linalg.inv(B)"
   ]
  },
  {
   "cell_type": "code",
   "execution_count": 18,
   "id": "smooth-behavior",
   "metadata": {},
   "outputs": [
    {
     "data": {
      "text/plain": [
       "array([[6.],\n",
       "       [1.],\n",
       "       [0.]])"
      ]
     },
     "execution_count": 18,
     "metadata": {},
     "output_type": "execute_result"
    }
   ],
   "source": [
    "#find the solution\n",
    "inv_B.dot(b)"
   ]
  },
  {
   "cell_type": "code",
   "execution_count": 19,
   "id": "young-confusion",
   "metadata": {},
   "outputs": [
    {
     "name": "stdout",
     "output_type": "stream",
     "text": [
      "The equation 1 was satisfied\n"
     ]
    }
   ],
   "source": [
    "#Check your if your results satisfy the previous values in your initial equation\n",
    "x1 = 6\n",
    "x2 = 1\n",
    "x3 = 0\n",
    "\n",
    "if(x1+2*x2+6*x3==8):\n",
    "    print(\"The equation 1 was satisfied\")\n",
    "else:\n",
    "    print(\"The equation 1 was not satisfid\")"
   ]
  },
  {
   "cell_type": "code",
   "execution_count": 20,
   "id": "relative-consent",
   "metadata": {},
   "outputs": [],
   "source": [
    "#Find the sum of the following matrices\n",
    "A = np.array([[5,-4,0],[-2,4,3]])"
   ]
  },
  {
   "cell_type": "code",
   "execution_count": 21,
   "id": "distinct-scratch",
   "metadata": {},
   "outputs": [],
   "source": [
    "B = np.array([[-2,4,3],[3,0,-5]])"
   ]
  },
  {
   "cell_type": "code",
   "execution_count": 22,
   "id": "golden-holder",
   "metadata": {},
   "outputs": [],
   "source": [
    "#sum of matrix A and matrix B\n",
    "C = A + B"
   ]
  },
  {
   "cell_type": "code",
   "execution_count": 23,
   "id": "compact-mortality",
   "metadata": {},
   "outputs": [
    {
     "data": {
      "text/plain": [
       "array([[ 3,  0,  3],\n",
       "       [ 1,  4, -2]])"
      ]
     },
     "execution_count": 23,
     "metadata": {},
     "output_type": "execute_result"
    }
   ],
   "source": [
    "C"
   ]
  },
  {
   "cell_type": "code",
   "execution_count": 24,
   "id": "living-subdivision",
   "metadata": {},
   "outputs": [],
   "source": [
    "#Find the scalar product of a constant and a matrix\n",
    "D = np.array([[3,0,3],[2,2,-4]])"
   ]
  },
  {
   "cell_type": "code",
   "execution_count": 26,
   "id": "proved-villa",
   "metadata": {},
   "outputs": [
    {
     "data": {
      "text/plain": [
       "array([[  9,   0,   9],\n",
       "       [  6,   6, -12]])"
      ]
     },
     "execution_count": 26,
     "metadata": {},
     "output_type": "execute_result"
    }
   ],
   "source": [
    "#multiply by constant 3\n",
    "3*D"
   ]
  },
  {
   "cell_type": "code",
   "execution_count": 27,
   "id": "extraordinary-savage",
   "metadata": {},
   "outputs": [],
   "source": [
    "#Compute the product of two given matrices\n",
    "E = np.array([[1,-2],[3,0],[2,-1]])"
   ]
  },
  {
   "cell_type": "code",
   "execution_count": 31,
   "id": "social-carter",
   "metadata": {},
   "outputs": [
    {
     "data": {
      "text/plain": [
       "(3, 2)"
      ]
     },
     "execution_count": 31,
     "metadata": {},
     "output_type": "execute_result"
    }
   ],
   "source": [
    "#When you multiply two matricies ensure they have the same number of rows and columns\n",
    "E.shape"
   ]
  },
  {
   "cell_type": "code",
   "execution_count": 30,
   "id": "innocent-score",
   "metadata": {},
   "outputs": [
    {
     "data": {
      "text/plain": [
       "(2, 3)"
      ]
     },
     "execution_count": 30,
     "metadata": {},
     "output_type": "execute_result"
    }
   ],
   "source": [
    "D.shape"
   ]
  },
  {
   "cell_type": "code",
   "execution_count": 32,
   "id": "surprised-paraguay",
   "metadata": {},
   "outputs": [
    {
     "data": {
      "text/plain": [
       "array([[-1, -4, 11],\n",
       "       [ 9,  0,  9],\n",
       "       [ 4, -2, 10]])"
      ]
     },
     "execution_count": 32,
     "metadata": {},
     "output_type": "execute_result"
    }
   ],
   "source": [
    "#multiply the matrix E x D\n",
    "E.dot(D)"
   ]
  },
  {
   "cell_type": "code",
   "execution_count": 33,
   "id": "refined-authentication",
   "metadata": {},
   "outputs": [
    {
     "data": {
      "text/plain": [
       "array([[ 9, -9],\n",
       "       [ 0,  0]])"
      ]
     },
     "execution_count": 33,
     "metadata": {},
     "output_type": "execute_result"
    }
   ],
   "source": [
    "#multiply the matrix E x D\n",
    "D.dot(E)"
   ]
  },
  {
   "cell_type": "code",
   "execution_count": 34,
   "id": "equal-preparation",
   "metadata": {},
   "outputs": [],
   "source": [
    "S = np.array([[4,-1,0],[2,1,-3]])"
   ]
  },
  {
   "cell_type": "code",
   "execution_count": 35,
   "id": "dependent-secretary",
   "metadata": {},
   "outputs": [
    {
     "data": {
      "text/plain": [
       "array([[ 4,  2],\n",
       "       [-1,  1],\n",
       "       [ 0, -3]])"
      ]
     },
     "execution_count": 35,
     "metadata": {},
     "output_type": "execute_result"
    }
   ],
   "source": [
    "S.transpose()"
   ]
  },
  {
   "cell_type": "code",
   "execution_count": 36,
   "id": "romantic-encoding",
   "metadata": {},
   "outputs": [
    {
     "data": {
      "text/plain": [
       "array([[ 4, -1,  0],\n",
       "       [ 2,  1, -3]])"
      ]
     },
     "execution_count": 36,
     "metadata": {},
     "output_type": "execute_result"
    }
   ],
   "source": [
    "S"
   ]
  },
  {
   "cell_type": "code",
   "execution_count": null,
   "id": "sorted-turtle",
   "metadata": {},
   "outputs": [],
   "source": []
  }
 ],
 "metadata": {
  "kernelspec": {
   "display_name": "Python 3",
   "language": "python",
   "name": "python3"
  },
  "language_info": {
   "codemirror_mode": {
    "name": "ipython",
    "version": 3
   },
   "file_extension": ".py",
   "mimetype": "text/x-python",
   "name": "python",
   "nbconvert_exporter": "python",
   "pygments_lexer": "ipython3",
   "version": "3.9.2"
  }
 },
 "nbformat": 4,
 "nbformat_minor": 5
}
